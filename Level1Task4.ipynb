{
 "cells": [
  {
   "cell_type": "code",
   "execution_count": 1,
   "id": "a7ca2659-c8be-485c-8ce3-3f3274e19573",
   "metadata": {},
   "outputs": [],
   "source": [
    "import pandas as pd\n",
    "import matplotlib.pyplot as plt\n"
   ]
  },
  {
   "cell_type": "code",
   "execution_count": 2,
   "id": "b6b797a5-2b38-4b3f-8397-13ad5c2fde4a",
   "metadata": {},
   "outputs": [],
   "source": [
    "# Load the data\n",
    "df = pd.read_csv(r\"C:\\Users\\Dongen_Master\\Desktop\\L4T4\\Dataset .csv\")\n"
   ]
  },
  {
   "cell_type": "code",
   "execution_count": 3,
   "id": "f0686495-48b5-4078-acb7-b00444cf7726",
   "metadata": {},
   "outputs": [
    {
     "name": "stdout",
     "output_type": "stream",
     "text": [
      "<class 'pandas.core.frame.DataFrame'>\n",
      "RangeIndex: 9551 entries, 0 to 9550\n",
      "Data columns (total 21 columns):\n",
      " #   Column                Non-Null Count  Dtype  \n",
      "---  ------                --------------  -----  \n",
      " 0   Restaurant ID         9551 non-null   int64  \n",
      " 1   Restaurant Name       9551 non-null   object \n",
      " 2   Country Code          9551 non-null   int64  \n",
      " 3   City                  9551 non-null   object \n",
      " 4   Address               9551 non-null   object \n",
      " 5   Locality              9551 non-null   object \n",
      " 6   Locality Verbose      9551 non-null   object \n",
      " 7   Longitude             9551 non-null   float64\n",
      " 8   Latitude              9551 non-null   float64\n",
      " 9   Cuisines              9542 non-null   object \n",
      " 10  Average Cost for two  9551 non-null   int64  \n",
      " 11  Currency              9551 non-null   object \n",
      " 12  Has Table booking     9551 non-null   object \n",
      " 13  Has Online delivery   9551 non-null   object \n",
      " 14  Is delivering now     9551 non-null   object \n",
      " 15  Switch to order menu  9551 non-null   object \n",
      " 16  Price range           9551 non-null   int64  \n",
      " 17  Aggregate rating      9551 non-null   float64\n",
      " 18  Rating color          9551 non-null   object \n",
      " 19  Rating text           9551 non-null   object \n",
      " 20  Votes                 9551 non-null   int64  \n",
      "dtypes: float64(3), int64(5), object(13)\n",
      "memory usage: 1.5+ MB\n"
     ]
    }
   ],
   "source": [
    "# Display the first few rows of the dataframe\n",
    "df.head()\n",
    "\n",
    "# Display column names and basic information about the dataframe\n",
    "df.info()\n"
   ]
  },
  {
   "cell_type": "code",
   "execution_count": 6,
   "id": "232bc10a-734f-4b99-841c-83b53611faff",
   "metadata": {},
   "outputs": [
    {
     "data": {
      "text/plain": [
       "array(['No', 'Yes'], dtype=object)"
      ]
     },
     "execution_count": 6,
     "metadata": {},
     "output_type": "execute_result"
    }
   ],
   "source": [
    "# Check for unique values in the 'Online Delivery' column\n",
    "df['Has Online delivery'].unique()\n"
   ]
  },
  {
   "cell_type": "code",
   "execution_count": 7,
   "id": "10645d2d-c5d6-48ae-b628-89aee34e3333",
   "metadata": {},
   "outputs": [
    {
     "name": "stdout",
     "output_type": "stream",
     "text": [
      "Percentage of restaurants offering online delivery: 25.66%\n"
     ]
    }
   ],
   "source": [
    "# Count the number of restaurants offering online delivery\n",
    "total_restaurants = df.shape[0]\n",
    "online_delivery_count = df[df['Has Online delivery'] == 'Yes'].shape[0]\n",
    "\n",
    "# Calculate the percentage\n",
    "percentage_online_delivery = (online_delivery_count / total_restaurants) * 100\n",
    "print(f\"Percentage of restaurants offering online delivery: {percentage_online_delivery:.2f}%\")\n"
   ]
  },
  {
   "cell_type": "code",
   "execution_count": 8,
   "id": "7e44c009-d78e-4cda-88c8-ce30f9f1ed53",
   "metadata": {},
   "outputs": [
    {
     "name": "stdout",
     "output_type": "stream",
     "text": [
      "Average rating for restaurants with online delivery: 3.25\n",
      "Average rating for restaurants without online delivery: 2.47\n"
     ]
    }
   ],
   "source": [
    "# Convert the 'Rating' column to numeric, forcing errors to NaN\n",
    "df['Rating'] = pd.to_numeric(df['Aggregate rating'], errors='coerce')\n",
    "\n",
    "# Calculate average ratings\n",
    "average_rating_online_delivery = df[df['Has Online delivery'] == 'Yes']['Aggregate rating'].mean()\n",
    "average_rating_no_online_delivery = df[df['Has Online delivery'] == 'No']['Aggregate rating'].mean()\n",
    "\n",
    "print(f\"Average rating for restaurants with online delivery: {average_rating_online_delivery:.2f}\")\n",
    "print(f\"Average rating for restaurants without online delivery: {average_rating_no_online_delivery:.2f}\")\n"
   ]
  },
  {
   "cell_type": "code",
   "execution_count": 12,
   "id": "a06606f8-6ae4-42fc-9344-fb9283ebc6d7",
   "metadata": {},
   "outputs": [
    {
     "data": {
      "image/png": "[encoded data removed]",
      "text/plain": [
       "<Figure size 800x600 with 1 Axes>"
      ]
     },
     "metadata": {},
     "output_type": "display_data"
    }
   ],
   "source": [
    "labels = ['With Online Delivery', 'Without Online Delivery']\n",
    "ratings = [average_rating_online_delivery, average_rating_no_online_delivery]\n",
    "\n",
    "# Create a bar chart\n",
    "plt.figure(figsize=(8, 6))\n",
    "plt.bar(labels, ratings, color=['blue', 'orange'])\n",
    "plt.xlabel('Online Delivery Status')\n",
    "plt.ylabel('Average Rating')\n",
    "plt.title('Average Ratings Comparison')\n",
    "\n",
    "# Save the plot as a PNG file\n",
    "plt.savefig('average_ratings_comparison.png')\n",
    "\n",
    "# Display the plot\n",
    "plt.show()"
   ]
  },
  {
   "cell_type": "code",
   "execution_count": null,
   "id": "1877c109-61f0-4c1e-93cb-12af960f0f67",
   "metadata": {},
   "outputs": [],
   "source": []
  }
 ],
 "metadata": {
  "kernelspec": {
   "display_name": "Python 3 (ipykernel)",
   "language": "python",
   "name": "python3"
  },
  "language_info": {
   "codemirror_mode": {
    "name": "ipython",
    "version": 3
   },
   "file_extension": ".py",
   "mimetype": "text/x-python",
   "name": "python",
   "nbconvert_exporter": "python",
   "pygments_lexer": "ipython3",
   "version": "3.11.3"
  }
 },
 "nbformat": 4,
 "nbformat_minor": 5
}
